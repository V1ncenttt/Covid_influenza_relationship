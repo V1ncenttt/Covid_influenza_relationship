{
 "cells": [
  {
   "cell_type": "markdown",
   "metadata": {},
   "source": [
    "## Test for IAS"
   ]
  },
  {
   "cell_type": "code",
   "execution_count": 3,
   "metadata": {},
   "outputs": [
    {
     "name": "stdout",
     "output_type": "stream",
     "text": [
      "[['2009-07-01' '1,7' '2,2' '2,3']\n",
      " ['2009-07-02' '3,4' '2,1' '2,3']\n",
      " ['2009-07-03' '2,1' '2,1' '2,3']\n",
      " ...\n",
      " ['2021-02-28' '226,4' '15,3' 'NA']\n",
      " ['2021-03-01' '15,8' '15' 'NA']\n",
      " ['2021-03-02' '2,5' '14,6' 'NA']]\n"
     ]
    }
   ],
   "source": [
    "import numpy as np\n",
    "\n",
    "ias_time = np.genfromtxt(\"Openhealth_S-Grippal.csv\", delimiter=\";\", dtype=\"U75\", skip_header=1)\n",
    "print(ias_time)"
   ]
  },
  {
   "cell_type": "code",
   "execution_count": 39,
   "metadata": {},
   "outputs": [
    {
     "name": "stdout",
     "output_type": "stream",
     "text": [
      "['1.7' '3.4' '2.1' ... '226.4' '15.8' '2.5']\n",
      "(4234,)\n",
      "(4234,)\n"
     ]
    }
   ],
   "source": [
    "time = ias_time[:4234,0]\n",
    "ias_brut = ias_time[:,1]\n",
    "ias_lisse = ias_time[:,2]\n",
    "ias_brut2 = np.array([])\n",
    "\n",
    "for elem in ias_brut:\n",
    "    elem = elem.replace(\",\",\".\")\n",
    "    \n",
    "    ias_brut2 = np.append(ias_brut2, elem)\n",
    "    \n",
    "print(ias_brut2)\n",
    "ias_brut = ias_brut2.astype(np.float)\n",
    "#print(time)\n",
    "#print(ias_brut)\n",
    "\n",
    "def running_mean(x, N):\n",
    "    cumsum = np.cumsum(np.insert(x, 0, 0)) \n",
    "    return (cumsum[N:] - cumsum[:-N]) / float(N)\n",
    "\n",
    "ias_brut_glissant = running_mean(ias_brut,30)\n",
    "print(ias_brut_glissant.shape)\n",
    "print(time.shape)"
   ]
  },
  {
   "cell_type": "code",
   "execution_count": null,
   "metadata": {},
   "outputs": [
    {
     "name": "stderr",
     "output_type": "stream",
     "text": [
      "No handles with labels found to put in legend.\n"
     ]
    }
   ],
   "source": [
    "import matplotlib.pyplot as plt\n",
    "\n",
    "\n",
    "\n",
    "fig = plt.figure()\n",
    "ax = fig.add_subplot(111)\n",
    "ax.plot(time,ias_brut_glissant, color='blue')\n",
    "#ax.plot(ias_time[:,0],ias_time[:,2], color='lightblue', linewidth=3, label = \"Lissé\")\n",
    "\n",
    "plt.grid()\n",
    "\n",
    "\n",
    "plt.show()"
   ]
  },
  {
   "cell_type": "code",
   "execution_count": null,
   "metadata": {},
   "outputs": [],
   "source": []
  }
 ],
 "metadata": {
  "kernelspec": {
   "display_name": "Python 3",
   "language": "python",
   "name": "python3"
  },
  "language_info": {
   "codemirror_mode": {
    "name": "ipython",
    "version": 3
   },
   "file_extension": ".py",
   "mimetype": "text/x-python",
   "name": "python",
   "nbconvert_exporter": "python",
   "pygments_lexer": "ipython3",
   "version": "3.8.5"
  }
 },
 "nbformat": 4,
 "nbformat_minor": 4
}
